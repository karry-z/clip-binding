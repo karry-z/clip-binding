{
 "cells": [
  {
   "attachments": {},
   "cell_type": "markdown",
   "metadata": {},
   "source": [
    "# Investigate CLIP text embeddings"
   ]
  },
  {
   "attachments": {},
   "cell_type": "markdown",
   "metadata": {},
   "source": [
    "run the following script to generate the embeddings of positive and negative samples.  \n",
    "\n",
    "A positive sample refers to a pair of (image, text) where the content of the image corresponds to the text, while the negative sample is the one that does not match.\n",
    "\n",
    "The distance to see if the image and text match is computed by the cosine distance (dot product) between the embeddings of the image and text.\n",
    "\n",
    "Then, the sample mean of the distance is computed for each batch. The distance will be saved in 'clip_embeddings.csv' with positive column and negative column. Each line is a batch through the CLIP model.  \n"
   ]
  },
  {
   "attachments": {},
   "cell_type": "markdown",
   "metadata": {},
   "source": [
    "## Lib"
   ]
  },
  {
   "cell_type": "code",
   "execution_count": 1,
   "metadata": {},
   "outputs": [],
   "source": [
    "import numpy as np\n",
    "import pandas as pd\n",
    "import scipy.stats as stats\n",
    "from matplotlib import pyplot as plt\n",
    "import matplotlib.colors as mcolors"
   ]
  },
  {
   "cell_type": "code",
   "execution_count": null,
   "metadata": {},
   "outputs": [],
   "source": [
    "# file_path_list = ['clip_embeddings_distance_sample_mean_train.csv', 'clip_embeddings_distance_sample_mean_val.csv', 'clip_embeddings_distance_sample_mean_gen.csv'] # clip\n",
    "file_path_list = [f'/user/work/pu22650/clip-binding-out/t5_embeddings/t5_embeddings_distance_sample_mean_{split}.csv' for split in ['train', 'val', 'gen']] # t5_embeddings\n"
   ]
  },
  {
   "attachments": {},
   "cell_type": "markdown",
   "metadata": {},
   "source": [
    "## Plot"
   ]
  },
  {
   "attachments": {},
   "cell_type": "markdown",
   "metadata": {},
   "source": [
    "To see wether CLIP can distinguish the positive and negative samples, we plot the distribution of positive and negative samples mean. and fit the pdf of them."
   ]
  },
  {
   "cell_type": "code",
   "execution_count": 37,
   "metadata": {},
   "outputs": [],
   "source": [
    "def plot_hist(df, file_path):\n",
    "    fig, ax = plt.subplots(3, 2, figsize=(10, 10))\n",
    "    ax[0,0].set_title(\"histogram of aRb\")\n",
    "    hist_aRb = ax[0,0].hist(df['aRb'], bins='auto', density=True, label='aRb hist', alpha = 0.3, color=mcolors.CSS4_COLORS['red'])\n",
    "    ax[0,1].set_title(\"histogram of bRa\")\n",
    "    hist_bRa = ax[0,1].hist(df['bRa'], bins='auto', density=True, label='bRa hist', alpha = 0.3, color=mcolors.CSS4_COLORS['lime'])\n",
    "    ax[1, 0].set_title(\"histogram of aSb\")\n",
    "    hist_aSb = ax[1, 0].hist(df['aSb'], bins='auto', density=True, label='aSb hist', alpha = 0.3, color=mcolors.CSS4_COLORS['cyan'])\n",
    "    ax[1, 1].set_title(\"histogram of cRb\")\n",
    "    hist_cRb = ax[1, 1].hist(df['cRb'], bins='auto', density=True, label='cRb hist', alpha = 0.3, color=mcolors.CSS4_COLORS['orange'])\n",
    "    ax[2, 0].set_title(\"histogram of aRc\")\n",
    "    hist_aRc = ax[2, 0].hist(df['aRc'], bins='auto', density=True, label='aRc hist', alpha = 0.3, color=mcolors.CSS4_COLORS['blue'])\n",
    "    ax[2,1].set_title(\"hist of all\")\n",
    "    hist_aRb = ax[2,1].hist(df['aRb'], bins='auto', density=True, label='aRb hist', alpha = 0.3, color=mcolors.CSS4_COLORS['red'])\n",
    "    hist_bRa = ax[2,1].hist(df['bRa'], bins='auto', density=True, label='bRa hist', alpha = 0.3, color=mcolors.CSS4_COLORS['lime'])\n",
    "    hist_aSb = ax[2,1].hist(df['aSb'], bins='auto', density=True, label='aSb hist', alpha = 0.3, color=mcolors.CSS4_COLORS['cyan'])\n",
    "    hist_cRb = ax[2,1].hist(df['cRb'], bins='auto', density=True, label='cRb hist', alpha = 0.3, color=mcolors.CSS4_COLORS['orange'])\n",
    "    hist_aRc = ax[2,1].hist(df['aRc'], bins='auto', density=True, label='aRc hist', alpha = 0.3, color=mcolors.CSS4_COLORS['blue'])\n",
    "    \n",
    "    fig.savefig(f\"{file_path.split('.')[0].split('_')[-1]}_hist.pdf\")"
   ]
  },
  {
   "cell_type": "code",
   "execution_count": 38,
   "metadata": {},
   "outputs": [],
   "source": [
    "def normal_dist(x, mu, sigma):\n",
    "    return np.exp(-(x-mu)**2/(2*sigma**2))/np.sqrt(2*np.pi*sigma)\n",
    "\n",
    "X = np.linspace(0, 50, 500)\n",
    "\n",
    "def plot_label_dist(ax, df_label, label, color=mcolors.CSS4_COLORS['red'], alpha=0.3):\n",
    "    hist = ax.hist(df_label, bins='auto', density=True, label=f'{label} hist', alpha = alpha, color=color)\n",
    "    dist = stats.rv_histogram(hist[:2])\n",
    "    ax.plot(X, normal_dist(X, dist.mean(), dist.std()), label=f'pdf of {label}', color=color)\n",
    "    ax.vlines(dist.mean(), 0, 3, colors=color, label=f'{label} mean', linestyle='--')\n",
    "    print(f\"mean value of {label} distribution:\", dist.mean(), f\"standard error of {label} distribution:\", dist.std())"
   ]
  },
  {
   "cell_type": "code",
   "execution_count": 39,
   "metadata": {},
   "outputs": [],
   "source": [
    "def plot_dist(df, file_path):\n",
    "    fig, ax = plt.subplots(figsize=(8, 8))\n",
    "    ax.set_title(\"distribution of dot product distance of CLIP embeddings between image and text\")\n",
    "    plot_label_dist(ax, df['aRb'], 'aRb', color=mcolors.CSS4_COLORS['red'])\n",
    "    plot_label_dist(ax, df['bRa'], 'bRa', color=mcolors.CSS4_COLORS['lime'])\n",
    "    plot_label_dist(ax, df['aSb'], 'aSb', color=mcolors.CSS4_COLORS['cyan'])\n",
    "    plot_label_dist(ax, df['cRb'], 'cRb', color=mcolors.CSS4_COLORS['orange'])\n",
    "    plot_label_dist(ax, df['aRc'], 'aRc', color=mcolors.CSS4_COLORS['blue'])\n",
    "    ax.legend()\n",
    "    ax.set_xlabel('distance')\n",
    "    ax.set_ylabel('probability density')\n",
    "    if 'train' in file_path:\n",
    "        ax.set_xlim(10, 35)\n",
    "        ax.set_ylim(0, 0.25)\n",
    "    elif 'test' in file_path:\n",
    "        ax.set_xlim(10, 35)\n",
    "        ax.set_ylim(0, 0.4)\n",
    "    else:\n",
    "        ax.set_xlim(7, 38)\n",
    "        ax.set_ylim(0, 0.4)\n",
    "    fig.show()\n",
    "    print()\n",
    "    fig.savefig(f\"{file_path.split('.')[0].split('_')[-1]}_dist.pdf\")"
   ]
  },
  {
   "cell_type": "code",
   "execution_count": null,
   "metadata": {},
   "outputs": [],
   "source": [
    "for file_path in file_path_list:\n",
    "    df = pd.read_csv(file_path)\n",
    "    plot_hist(df, file_path)\n",
    "    # plot_dist(df, file_path)"
   ]
  }
 ],
 "metadata": {
  "kernelspec": {
   "display_name": "ldm",
   "language": "python",
   "name": "python3"
  },
  "language_info": {
   "codemirror_mode": {
    "name": "ipython",
    "version": 3
   },
   "file_extension": ".py",
   "mimetype": "text/x-python",
   "name": "python",
   "nbconvert_exporter": "python",
   "pygments_lexer": "ipython3",
   "version": "3.8.5"
  },
  "orig_nbformat": 4
 },
 "nbformat": 4,
 "nbformat_minor": 2
}
